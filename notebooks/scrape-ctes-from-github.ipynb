{
 "cells": [
  {
   "cell_type": "code",
   "execution_count": 1,
   "metadata": {},
   "outputs": [],
   "source": [
    "import os\n",
    "from github import Github\n",
    "import re\n",
    "import sqlparse\n",
    "import json\n",
    "import time"
   ]
  },
  {
   "cell_type": "code",
   "execution_count": 2,
   "metadata": {},
   "outputs": [],
   "source": [
    "def extract_ctes(sql_code):\n",
    "    # Regular expression to capture CTE name and the SQL following AS\n",
    "    cte_regex = re.compile(r\"(\\w+)\\s+AS\\s+\\(\", re.IGNORECASE)\n",
    "    \n",
    "    # Find all matches for CTEs\n",
    "    matches = cte_regex.finditer(sql_code)\n",
    "    \n",
    "    ctes = []\n",
    "    \n",
    "    # Iterate through each match to extract the CTE\n",
    "    for match in matches:\n",
    "        cte_name = match.group(1)\n",
    "        start_idx = match.end()  # Starting index after 'AS ('\n",
    "        end_idx = None\n",
    "        parentheses_count = 1  # We already have one opening parenthesis\n",
    "        \n",
    "        in_single_quote = False\n",
    "        in_double_quote = False\n",
    "        escape_char = False\n",
    "        \n",
    "        # Iterate through the remaining SQL to find matching parentheses\n",
    "        for idx in range(start_idx, len(sql_code)):\n",
    "            char = sql_code[idx]\n",
    "            \n",
    "            # Handle escape character inside a string\n",
    "            if escape_char:\n",
    "                escape_char = False  # Skip the next character after a backslash\n",
    "                continue\n",
    "            \n",
    "            # Check for the escape character\n",
    "            if char == '\\\\':\n",
    "                escape_char = True\n",
    "                continue\n",
    "            \n",
    "            # Toggle flags for entering/exiting single or double quotes\n",
    "            if char == \"'\" and not in_double_quote:\n",
    "                in_single_quote = not in_single_quote\n",
    "                continue\n",
    "            elif char == '\"' and not in_single_quote:\n",
    "                in_double_quote = not in_double_quote\n",
    "                continue\n",
    "            \n",
    "            # If we're inside a string, ignore any parentheses\n",
    "            if in_single_quote or in_double_quote:\n",
    "                continue\n",
    "            \n",
    "            # Track parentheses when not inside a string\n",
    "            if char == '(':\n",
    "                parentheses_count += 1\n",
    "            elif char == ')':\n",
    "                parentheses_count -= 1\n",
    "            \n",
    "            # If parentheses are balanced, we've found the end of the CTE definition\n",
    "            if parentheses_count == 0:\n",
    "                end_idx = idx\n",
    "                break\n",
    "        \n",
    "        # Extract the CTE SQL code, excluding the last parenthesis\n",
    "        if end_idx is not None:\n",
    "            cte_sql = sql_code[start_idx:end_idx].strip()  # Exclude the last closing parenthesis\n",
    "            ctes.append({\n",
    "                'name': cte_name,\n",
    "                'sql': cte_sql\n",
    "            })\n",
    "    \n",
    "    return ctes"
   ]
  },
  {
   "cell_type": "code",
   "execution_count": 8,
   "metadata": {},
   "outputs": [],
   "source": [
    "# Authenticate with GitHub\n",
    "token = os.getenv('GITHUB_TOKEN')\n",
    "g = Github(token)\n",
    "\n",
    "def search_github_for_ctes(query, language=\"SQL\", sort=\"indexed\", order=\"desc\", limit=1000):\n",
    "    # Search GitHub for code matching the query\n",
    "    results = g.search_code(query=query, language=language, sort=sort, order=order)\n",
    "    \n",
    "    ctes_list = []\n",
    "\n",
    "    try:\n",
    "        print(\"searching for CTEs:\")\n",
    "        print(\"[\",end='')\n",
    "        for file in results[:limit]:\n",
    "            try:\n",
    "                # Check rate limit\n",
    "                rate_limit = g.get_rate_limit().search\n",
    "                if rate_limit.remaining == 0:\n",
    "                    print(\"Rate limit exceeded. Returning results gathered so far.\")\n",
    "                    break\n",
    "\n",
    "                # Get the contents of the file\n",
    "                content = file.decoded_content.decode('utf-8')\n",
    "\n",
    "                \n",
    "                repo_full_name = file.repository.full_name\n",
    "                file_repo = file.repository\n",
    "                repo = g.get_repo(repo_full_name)\n",
    "                \n",
    "                # Parse the SQL content using sqlparse\n",
    "                parsed = sqlparse.parse(content)\n",
    "                \n",
    "                for statement in parsed:\n",
    "                    # Find CTEs using regex\n",
    "                    matches = extract_ctes(str(statement))\n",
    "                    \n",
    "                    for match in matches:\n",
    "                        cte_name = match['name'].strip()\n",
    "                        cte_query_body = match['sql'].strip()\n",
    "                        # ctes_list.append({cte_name: cte_query_body})\n",
    "\n",
    "                        ctes_list.append(\n",
    "                            {\n",
    "                                'cte_name': cte_name,\n",
    "                                'SQL': cte_query_body,\n",
    "                                'Repo': repo_full_name,\n",
    "                                'file_name': file.name,\n",
    "                                'file_path':file.html_url,\n",
    "                                'file_size':file.size,\n",
    "                                'repo_path':file_repo.html_url,\n",
    "                                'repo_description': repo.description,\n",
    "                                'repo_size': repo.size,\n",
    "                                'num_commits': repo.get_commits().totalCount,\n",
    "                                'num_branches': repo.get_branches().totalCount,\n",
    "                                'num_prs': repo.get_pulls(state='all').totalCount,\n",
    "                                'repo_contributors': repo.get_contributors().totalCount,\n",
    "                                'repo_releases': repo.get_releases().totalCount,\n",
    "                                'repo_stars': file_repo.stargazers_count,\n",
    "                                'repo_forks': file_repo.forks_count,\n",
    "                            }\n",
    "                        )\n",
    "\n",
    "            except Exception as e:\n",
    "                print(f\"Error processing file {file.html_url}: {e}\")\n",
    "            print(\"*\",end='')\n",
    "        print(\"]\")\n",
    "\n",
    "    except Exception as e:\n",
    "        print(f\"Exception occurred: {e}\")\n",
    "        \n",
    "    return ctes_list\n",
    "\n",
    "\n",
    "schemas = [\n",
    "    \"Chinook\",\n",
    "    \"Northwind\",\n",
    "    \"AdventureWorks\",\n",
    "    \"Sakila\",\n",
    "    \"HR\",\n",
    "    \"Pagila\",\n",
    "    \"DVD Rental\",\n",
    "    \"World\",\n",
    "    \"Employees\",\n",
    "    \"TPC-H\",\n",
    "    \"IMDB\",\n",
    "    \"FoodMart\",\n",
    "    \"WideWorldImporters\",\n",
    "    \"ClassicModels\",\n",
    "    \"Airline\"\n",
    "]\n",
    "\n",
    "# prepare informationfor retrieval\n",
    "query_json = [{'query': f'language:SQL WITH {schema}', 'schema': {schema}} for schema in schemas]\n"
   ]
  },
  {
   "cell_type": "code",
   "execution_count": 27,
   "metadata": {},
   "outputs": [
    {
     "name": "stdout",
     "output_type": "stream",
     "text": [
      "searching for CTEs:\n",
      "[**********]\n"
     ]
    }
   ],
   "source": [
    "list_to_test = search_github_for_ctes('WITH IMDB', limit=10)"
   ]
  },
  {
   "cell_type": "code",
   "execution_count": null,
   "metadata": {},
   "outputs": [],
   "source": [
    "list_to_test"
   ]
  },
  {
   "cell_type": "code",
   "execution_count": 4,
   "metadata": {},
   "outputs": [],
   "source": [
    "# Convert lists and sets within the dictionaries to tuples to ensure hashability\n",
    "def make_hashable(d):\n",
    "    return {k: tuple(v) if isinstance(v, (list, set)) else v for k, v in d.items()}"
   ]
  },
  {
   "cell_type": "code",
   "execution_count": 5,
   "metadata": {},
   "outputs": [],
   "source": [
    "# Function to check if schema data is already in the file\n",
    "def schema_exists_in_file(schema, file_name='combined_data.json'):\n",
    "    if os.path.exists(file_name):\n",
    "        with open(file_name, 'r') as file:\n",
    "            data = json.load(file)\n",
    "            return any(item.get('schema') == schema for item in data)\n",
    "    return False\n",
    "\n",
    "# Function to save the combined data to the JSON file\n",
    "def save_to_json(data, file_name='combined_data.json'):\n",
    "    if os.path.exists(file_name):\n",
    "        with open(file_name, 'r') as file:\n",
    "            existing_data = json.load(file)\n",
    "    else:\n",
    "        existing_data = []\n",
    "    \n",
    "    # Combine new and existing data, removing duplicates\n",
    "    combined_data = existing_data + data\n",
    "    unique_data = [dict(t) for t in {tuple(sorted(make_hashable(d).items())) for d in combined_data}]\n",
    "\n",
    "    # Save the unique data to the JSON file\n",
    "    with open(file_name, 'w') as file:\n",
    "        json.dump(unique_data, file, indent=4)"
   ]
  },
  {
   "cell_type": "code",
   "execution_count": 6,
   "metadata": {},
   "outputs": [],
   "source": [
    "def generate_github_dataset(name_of_file: str):\n",
    "    combined = []\n",
    "    mod_2_flag = 0\n",
    "\n",
    "    for query_schema_object in query_json:\n",
    "        schema = query_schema_object[\"schema\"]\n",
    "\n",
    "        # Check if the schema data is already in the file\n",
    "        if schema_exists_in_file(schema, name_of_file):\n",
    "            print(f'Schema {schema} already processed, skipping...')\n",
    "            continue\n",
    "\n",
    "        print(f'\\nGetting data for {schema} schema')\n",
    "\n",
    "        try:\n",
    "            ctes_desc = search_github_for_ctes(query_schema_object['query'])\n",
    "            ctes_asc = search_github_for_ctes(query_schema_object['query'], order='asc')\n",
    "            ctes = ctes_desc + ctes_asc\n",
    "\n",
    "            # Add the schema attribute\n",
    "            for obj in ctes:\n",
    "                obj['schema'] = schema\n",
    "\n",
    "            # Combine results and remove duplicates\n",
    "            combined += ctes\n",
    "            unique_list = [dict(t) for t in {tuple(sorted(make_hashable(d).items())) for d in combined}]\n",
    "\n",
    "            # Save progress to JSON file\n",
    "            save_to_json(unique_list, name_of_file)\n",
    "\n",
    "            mod_2_flag += 1\n",
    "\n",
    "        except Exception as e:\n",
    "            print(f'Error occurred for schema {schema}: {e}')\n",
    "            break  # Handle the error and break to avoid losing progress"
   ]
  },
  {
   "cell_type": "code",
   "execution_count": null,
   "metadata": {},
   "outputs": [],
   "source": [
    "# Remove duplicates by converting the list to a set of tuples\n",
    "unique_list = [dict(t) for t in {tuple(sorted(make_hashable(d).items())) for d in combined}]\n",
    "\n",
    "# Saving the CTEs to a JSON file\n",
    "with open(name_of_file, 'w') as json_file:\n",
    "    json.dump(unique_list, json_file, indent=4)"
   ]
  },
  {
   "cell_type": "code",
   "execution_count": 9,
   "metadata": {},
   "outputs": [
    {
     "name": "stdout",
     "output_type": "stream",
     "text": [
      "\n",
      "Getting data for {'Chinook'} schema\n",
      "searching for CTEs:\n",
      "[****************************************************************************************************************************************************************************************************************************************************************************************************************************************************************************************************************************************************************************************************************************************************************************************************************************************************************************************************************************************************************************************************************************************************************************************************************************************************************************************************************************************]\n",
      "searching for CTEs:\n",
      "[***********************"
     ]
    },
    {
     "name": "stderr",
     "output_type": "stream",
     "text": [
      "Request GET /repos/fvgm-spec/learn_dbt/pulls?state=all&per_page=1 failed with 403: Forbidden\n",
      "Setting next backoff to 881.021136s\n"
     ]
    },
    {
     "name": "stdout",
     "output_type": "stream",
     "text": [
      "*****************************************************************************************************************************************************************************************************************************************************************************************************************************************************************************************************************************************************************************************************************************************************************************************************************************************************************************************************************************************************************************************************************************************************************************************************************************************************************************************************************]\n",
      "\n",
      "Getting data for {'Northwind'} schema\n",
      "searching for CTEs:\n",
      "[***************************************************************************************************************************************************"
     ]
    },
    {
     "name": "stderr",
     "output_type": "stream",
     "text": [
      "Request GET /repos/jasonwnc/ds2002F23/pulls?state=all&per_page=1 failed with 403: Forbidden\n",
      "Setting next backoff to 785.586909s\n"
     ]
    },
    {
     "name": "stdout",
     "output_type": "stream",
     "text": [
      "*************************************************************************************************************************************************************************************************************************************************************************************************************************************************************************************************************************************************************************************************************************************************************************************************************************************************************************************************************************************************************************************************"
     ]
    },
    {
     "name": "stderr",
     "output_type": "stream",
     "text": [
      "Request GET /repos/andradelucas/EstudoDBT/releases?per_page=1 failed with 403: Forbidden\n",
      "Setting next backoff to 1301.749414s\n"
     ]
    },
    {
     "name": "stdout",
     "output_type": "stream",
     "text": [
      "************************************************************************************]\n",
      "searching for CTEs:\n",
      "[****************************************************************************************************************************************************************************************************************************************************************************************************************************************************************************************************************************************************************************************************************************************************************************************************************************************************************************************************************************"
     ]
    },
    {
     "name": "stderr",
     "output_type": "stream",
     "text": [
      "Request GET /repos/JakubWorek/introduction_to_databases_course/pulls?state=all&per_page=1 failed with 403: Forbidden\n",
      "Setting next backoff to 1292.505598s\n"
     ]
    },
    {
     "name": "stdout",
     "output_type": "stream",
     "text": [
      "*************************************************************************************************************************************************************************************************************************************************************************************************]\n",
      "\n",
      "Getting data for {'AdventureWorks'} schema\n",
      "searching for CTEs:\n",
      "[*********************************************************************************************************************************************************************************************************************************************************************************************************************************************************************************************************************************************************************************"
     ]
    },
    {
     "name": "stderr",
     "output_type": "stream",
     "text": [
      "Request GET /repos/Ann-su/bazy_danych/commits?per_page=1 failed with 403: Forbidden\n",
      "Setting next backoff to 1433.588327s\n"
     ]
    },
    {
     "name": "stdout",
     "output_type": "stream",
     "text": [
      "*******************************************************************************************************************************************************************************************************************************************************************************************************************************************************************************************************************************************************************************************************************************************************]\n",
      "searching for CTEs:\n",
      "[*******************************************************************************************************************************************************************************************************************************************"
     ]
    },
    {
     "name": "stderr",
     "output_type": "stream",
     "text": [
      "Request GET /repos/AdrianBobowski/Bazy-danych/releases?per_page=1 failed with 403: Forbidden\n",
      "Setting next backoff to 1475.311606s\n"
     ]
    },
    {
     "name": "stdout",
     "output_type": "stream",
     "text": [
      "***********************************************************************************************************************************************************************************************************************************************************************************************************************************************************************************************************************************************************************************************************************************************************************************************************************************************************************************************************************************************************************************]\n",
      "\n",
      "Getting data for {'Sakila'} schema\n",
      "searching for CTEs:\n",
      "[*****************"
     ]
    },
    {
     "name": "stderr",
     "output_type": "stream",
     "text": [
      "Request GET /repos/TimmyTonyY/DVD-Rental-Store-Analysis/branches?per_page=1 failed with 403: Forbidden\n",
      "Setting next backoff to 1503.929322s\n"
     ]
    },
    {
     "name": "stdout",
     "output_type": "stream",
     "text": [
      "***********************************************************************************************************************************************************************************************************************************************************************************************************************************************************************************************************************************************************************************************************************************************************************************************************************************************************************************************************************************************************************************************************************************************************************************************************************************************"
     ]
    },
    {
     "name": "stderr",
     "output_type": "stream",
     "text": [
      "Request GET /repositories/17225609/contents/sql2jooq/src/test/resources/sql/mysql-sakila-schema.sql?ref=ef9a8d809661a707b3ee41860fc258d01d272579 failed with 403: Forbidden\n",
      "Setting next backoff to 1429.233784s\n"
     ]
    },
    {
     "name": "stdout",
     "output_type": "stream",
     "text": [
      "************************************************************************]\n",
      "searching for CTEs:\n",
      "[**********************************************************************************************************************************************************************************************************************************************************************************************************************************************************************************************************************************************************************************************************************************************************************************************************************************************************************************************************************************************************************************************************************************************************"
     ]
    },
    {
     "name": "stderr",
     "output_type": "stream",
     "text": [
      "Request GET /repositories/817157074/contents/src/main/resources/db/migration/V1__init_tables.sql?ref=1e77f32292d65670091ae3292d30e6eab098667c failed with 403: Forbidden\n",
      "Setting next backoff to 1479.553845s\n"
     ]
    },
    {
     "name": "stdout",
     "output_type": "stream",
     "text": [
      "********************************************************************************************************************************************************************]\n",
      "\n",
      "Getting data for {'HR'} schema\n",
      "searching for CTEs:\n",
      "[*************************************************************************************************************************************************************************************************************************************************************************************************************************************************************************************************************************************************************************************************************************************************************************************************************************************************************************************************************************************************************************************************************************************"
     ]
    },
    {
     "name": "stderr",
     "output_type": "stream",
     "text": [
      "Request GET /repositories/544709994/contents/week-05/sql-challenge-answer/statements.sql?ref=9db88a52a3a9191aa9981899a0383735c868e899 failed with 403: Forbidden\n",
      "Setting next backoff to 1308.063573s\n"
     ]
    },
    {
     "name": "stdout",
     "output_type": "stream",
     "text": [
      "***************************************************************************************************************************************************************************************************]\n",
      "searching for CTEs:\n",
      "[***************************************************************************************************************************************************************************************************************************************************************************************************************************************************************************************************************************************************************************************************************************************************************************************************************************************************************************************************************************************************************************************************************************"
     ]
    },
    {
     "name": "stderr",
     "output_type": "stream",
     "text": [
      "Request GET /repos/WillemW-01/der-swiper failed with 403: Forbidden\n",
      "Setting next backoff to 1237.790246s\n"
     ]
    },
    {
     "name": "stdout",
     "output_type": "stream",
     "text": [
      "***************************************************************************************************************************************************************************************************]\n",
      "\n",
      "Getting data for {'Pagila'} schema\n",
      "searching for CTEs:\n",
      "[**************************************************************]\n",
      "searching for CTEs:\n",
      "[**************************************************************]\n",
      "\n",
      "Getting data for {'DVD Rental'} schema\n",
      "searching for CTEs:\n",
      "[******************************************************************************************************************************************************************************************************************************************************************************************************************************************************************************************************************************************************************************************************************************************************"
     ]
    },
    {
     "name": "stderr",
     "output_type": "stream",
     "text": [
      "Request GET /repos/pvanand07/Programming-for-Data-Science-with-Python-Nanodegree-Udacity/pulls?state=all&per_page=1 failed with 403: Forbidden\n",
      "Setting next backoff to 1335.294652s\n"
     ]
    },
    {
     "name": "stdout",
     "output_type": "stream",
     "text": [
      "*********************************************************************************************************************************************************************************************************************************]\n",
      "searching for CTEs:\n",
      "[***************************************************************************************************************************************************************************************************************************************************************************************************************************************************************************************************************************************************************************************************************************************************************************************************************************************************************************************************************************************************************************************]\n",
      "\n",
      "Getting data for {'World'} schema\n",
      "searching for CTEs:\n",
      "[**************************************************************************"
     ]
    },
    {
     "name": "stderr",
     "output_type": "stream",
     "text": [
      "Request GET /repos/mahab-22/supercarousel failed with 403: Forbidden\n",
      "Setting next backoff to 980.109444s\n"
     ]
    },
    {
     "name": "stdout",
     "output_type": "stream",
     "text": [
      "**************************************************************************************************************************************************************************************************************************************************************************************************************************************************************************************************************************************************************************************************************************************************************************************************************************************************************************************************************************************************************************************************************************************************************************************************************************************************************]\n",
      "searching for CTEs:\n",
      "[*****************************************************************************************************************************************************************************************************************************************************************************************************************************************************************************************************************"
     ]
    },
    {
     "name": "stderr",
     "output_type": "stream",
     "text": [
      "Request GET /repositories/423974140/contents/schema/generate/12-schema_update_14.sql?ref=3a253df3838f2103ce6ed0de0a87e1bea4904820 failed with 403: Forbidden\n",
      "Setting next backoff to 998.469713s\n"
     ]
    },
    {
     "name": "stdout",
     "output_type": "stream",
     "text": [
      "***********************************************************************************************************************************************************************************************************************************************************************************************************************************************************************************************************************************************************************************************************************************************************************************************************************]\n",
      "\n",
      "Getting data for {'Employees'} schema\n",
      "searching for CTEs:\n",
      "[********************************************************************************************************************************************************************************************************************************************************************************"
     ]
    },
    {
     "name": "stderr",
     "output_type": "stream",
     "text": [
      "Request GET /repos/thirstler/benchgo/branches?per_page=1 failed with 403: Forbidden\n",
      "Setting next backoff to 1311.617073s\n"
     ]
    },
    {
     "name": "stdout",
     "output_type": "stream",
     "text": [
      "*******************************************************************************************************************************************************************************************************************************************************************************************************************"
     ]
    },
    {
     "name": "stderr",
     "output_type": "stream",
     "text": [
      "Request GET /repos/vinaydanidhariya/Marwadi-uni failed with 403: Forbidden\n",
      "Setting next backoff to 1633.251376s\n"
     ]
    },
    {
     "name": "stdout",
     "output_type": "stream",
     "text": [
      "********************************************************************************************************************************************************************************************************************************************************************************************************************************"
     ]
    },
    {
     "name": "stderr",
     "output_type": "stream",
     "text": [
      "Request GET /repos/thirstler/benchgo/contributors?per_page=1 failed with 403: Forbidden\n",
      "Setting next backoff to 1610.362611s\n"
     ]
    },
    {
     "name": "stdout",
     "output_type": "stream",
     "text": [
      "*****************************************************************************************************]\n",
      "searching for CTEs:\n",
      "[**************************************************************************************************************************************************************************************************************************************************************************"
     ]
    },
    {
     "name": "stderr",
     "output_type": "stream",
     "text": [
      "Request GET /repos/thirstler/benchgo/branches?per_page=1 failed with 403: Forbidden\n",
      "Setting next backoff to 1612.101471s\n"
     ]
    },
    {
     "name": "stdout",
     "output_type": "stream",
     "text": [
      "**********************************************************************************************************************************************************************************************************************************************************************************************************************************************************"
     ]
    },
    {
     "name": "stderr",
     "output_type": "stream",
     "text": [
      "Request GET /repos/ktopcuoglu/gitlab-dbt-analytics/releases?per_page=1 failed with 403: Forbidden\n",
      "Setting next backoff to 1601.117393s\n"
     ]
    },
    {
     "name": "stdout",
     "output_type": "stream",
     "text": [
      "************************************************************************************************************************************************************************************************************************************************************************************************************"
     ]
    },
    {
     "name": "stderr",
     "output_type": "stream",
     "text": [
      "Request GET /repos/thirstler/benchgo/commits?per_page=1 failed with 403: Forbidden\n",
      "Setting next backoff to 1627.707804s\n"
     ]
    },
    {
     "name": "stdout",
     "output_type": "stream",
     "text": [
      "******************************************************************************]\n",
      "\n",
      "Getting data for {'TPC-H'} schema\n",
      "searching for CTEs:\n",
      "[*****************************************************************************************************************************************************************************************************************************************************************]\n",
      "searching for CTEs:\n",
      "[*****************************************************************************************************************************************************************************************************************************************************************]\n",
      "\n",
      "Getting data for {'IMDB'} schema\n",
      "searching for CTEs:\n",
      "[****************************************************"
     ]
    },
    {
     "name": "stderr",
     "output_type": "stream",
     "text": [
      "Request GET /repos/sushmitafordata/IMDB-assignment_SQL-/commits?per_page=1 failed with 403: Forbidden\n",
      "Setting next backoff to 1473.128396s\n"
     ]
    },
    {
     "name": "stdout",
     "output_type": "stream",
     "text": [
      "*****************************************************************************************************************************************************************************************************************"
     ]
    },
    {
     "name": "stderr",
     "output_type": "stream",
     "text": [
      "Request GET /repos/PrakNew/UpGrad/commits?per_page=1 failed with 403: Forbidden\n",
      "Setting next backoff to 1687.708218s\n"
     ]
    },
    {
     "name": "stdout",
     "output_type": "stream",
     "text": [
      "*******************************************"
     ]
    },
    {
     "name": "stderr",
     "output_type": "stream",
     "text": [
      "Request GET /repos/umbra-db/diamond-vldb2024/releases?per_page=1 failed with 403: Forbidden\n",
      "Setting next backoff to 1785.147588s\n"
     ]
    },
    {
     "name": "stdout",
     "output_type": "stream",
     "text": [
      "************************************************************Error processing file https://github.com/Sahnawaj27/IMDb-Movies-Analysis/blob/0c91bfdc72f3387ecb5b46247469b6a7a34968e9/Segment%207;%20%20Recommendations.sql: 404 {\"message\": \"Not Found\", \"documentation_url\": \"https://docs.github.com/rest/repos/contents#get-repository-content\", \"status\": \"404\"}\n",
      "*******************************************"
     ]
    },
    {
     "name": "stderr",
     "output_type": "stream",
     "text": [
      "Request GET /repos/umbra-db/diamond-vldb2024/branches?per_page=1 failed with 403: Forbidden\n",
      "Setting next backoff to 1722.92976s\n"
     ]
    },
    {
     "name": "stdout",
     "output_type": "stream",
     "text": [
      "*******************************************************************************************************************************************************************************************************************************************************************************************************************************************************************************************************************************************************************************************************************************************************************************************************]\n",
      "searching for CTEs:\n",
      "[*****************************************************************************************"
     ]
    },
    {
     "name": "stderr",
     "output_type": "stream",
     "text": [
      "Request GET /repositories/314808046/contents/hw-4/imdb.sql?ref=0103b2d08a6173d2b84e64685d7e45732947a3ec failed with 403: Forbidden\n",
      "Setting next backoff to 1083.99336s\n"
     ]
    },
    {
     "name": "stdout",
     "output_type": "stream",
     "text": [
      "***************************************************************************************************************************************************************************************"
     ]
    },
    {
     "name": "stderr",
     "output_type": "stream",
     "text": [
      "Request GET /repos/RUC-MSc-CS-CIT-2024/portfolio_subproject_1/contributors?per_page=1 failed with 403: Forbidden\n",
      "Setting next backoff to 1681.376922s\n"
     ]
    },
    {
     "name": "stdout",
     "output_type": "stream",
     "text": [
      "********************************************************************************************Error processing file https://github.com/Sahnawaj27/IMDb-Movies-Analysis/blob/0c91bfdc72f3387ecb5b46247469b6a7a34968e9/Segment%207;%20%20Recommendations.sql: 404 {\"message\": \"Not Found\", \"documentation_url\": \"https://docs.github.com/rest/repos/contents#get-repository-content\", \"status\": \"404\"}\n",
      "*******************************************"
     ]
    },
    {
     "name": "stderr",
     "output_type": "stream",
     "text": [
      "Request GET /repos/umbra-db/diamond-vldb2024/pulls?state=all&per_page=1 failed with 403: Forbidden\n",
      "Setting next backoff to 1715.669835s\n"
     ]
    },
    {
     "name": "stdout",
     "output_type": "stream",
     "text": [
      "*******************************************************************************************************************************************************************************************************************************************************************************************************************************************************************************************************************************************************************************************************************************************************************************************************]\n",
      "\n",
      "Getting data for {'FoodMart'} schema\n",
      "searching for CTEs:\n",
      "[***********]\n",
      "searching for CTEs:\n",
      "[***********]\n",
      "\n",
      "Getting data for {'WideWorldImporters'} schema\n",
      "searching for CTEs:\n",
      "[******************************************************************************************************************************************"
     ]
    },
    {
     "name": "stderr",
     "output_type": "stream",
     "text": [
      "Request GET /repositories/821849437/contents/HW5%20-%20OVER/hw_window_functions_tasks-188-334649.sql?ref=6e64aaca32b6d8e586275f7da10f4fab16735bce failed with 403: Forbidden\n",
      "Setting next backoff to 1073.392335s\n"
     ]
    },
    {
     "name": "stdout",
     "output_type": "stream",
     "text": [
      "************************************************************************************************************************************************]\n",
      "searching for CTEs:\n",
      "[******************************************************************************************************************************************************************************************************************************************************************************************]\n",
      "\n",
      "Getting data for {'ClassicModels'} schema\n",
      "searching for CTEs:\n",
      "[******************************************************************************************************************************************************************************************************************************************************************************************************************************************************************************************************"
     ]
    },
    {
     "name": "stderr",
     "output_type": "stream",
     "text": [
      "Request GET /repos/prasitstk/terraform-aws-devops failed with 403: Forbidden\n",
      "Setting next backoff to 1225.496838s\n"
     ]
    },
    {
     "name": "stdout",
     "output_type": "stream",
     "text": [
      "**********************************************************************************************************************************************************************************************************************************************************************************************************************************************************************************************************************************************************************************************************************************************************************************************************************************]\n",
      "searching for CTEs:\n",
      "[****************************************************************************************************************************************************************************************************************************************************************************************************************************************************************************************************************************************************************************************************************************************************************************************************************************************************************************************************************************************************************************************************************************************************************************************************************************************************************************************************************************************]\n",
      "\n",
      "Getting data for {'Airline'} schema\n",
      "searching for CTEs:\n",
      "[**********************************************************************"
     ]
    },
    {
     "name": "stderr",
     "output_type": "stream",
     "text": [
      "Request GET /repositories/727882504/contents/blog-akasa.sql?ref=dcfce379db0a97603a5e4c6afa98e1c703ab4e21 failed with 403: Forbidden\n",
      "Setting next backoff to 33.500035s\n"
     ]
    },
    {
     "name": "stdout",
     "output_type": "stream",
     "text": [
      "******************************************************************************************************************************************************************************************************************************************************************************************************************************************************************************************************************************************************************************************************************************************************************************************************************************************************************************************************************************************************************************************************************************************************************************************************************************************************************]\n",
      "searching for CTEs:\n",
      "[*************************************************************************************************************************************************************************************************************************************************************************************************************************************************************************************************************************"
     ]
    },
    {
     "name": "stderr",
     "output_type": "stream",
     "text": [
      "Request GET /repos/Yona-p/sql_cs50 failed with 403: Forbidden\n",
      "Setting next backoff to 290.092441s\n"
     ]
    },
    {
     "name": "stdout",
     "output_type": "stream",
     "text": [
      "***************************************************************************************************************************************************************************************************************************************************************************************************************************************************************************************************************************************************************************************************************************************************************************************************************]\n"
     ]
    }
   ],
   "source": [
    "file_name = 'github/github_ctes.json'\n",
    "generate_github_dataset(file_name)"
   ]
  }
 ],
 "metadata": {
  "kernelspec": {
   "display_name": "Python 3",
   "language": "python",
   "name": "python3"
  },
  "language_info": {
   "codemirror_mode": {
    "name": "ipython",
    "version": 3
   },
   "file_extension": ".py",
   "mimetype": "text/x-python",
   "name": "python",
   "nbconvert_exporter": "python",
   "pygments_lexer": "ipython3",
   "version": "3.12.5"
  }
 },
 "nbformat": 4,
 "nbformat_minor": 2
}
