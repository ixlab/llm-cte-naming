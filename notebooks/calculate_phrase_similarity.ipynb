{
 "cells": [
  {
   "cell_type": "markdown",
   "metadata": {},
   "source": [
    "# Calculate Phrase Similarity\n",
    "\n",
    "This notebook"
   ]
  },
  {
   "cell_type": "code",
   "execution_count": 1,
   "metadata": {},
   "outputs": [],
   "source": [
    "import re\n",
    "import json"
   ]
  },
  {
   "cell_type": "code",
   "execution_count": null,
   "metadata": {},
   "outputs": [],
   "source": [
    "from sentence_transformers import SentenceTransformer, util\n",
    "\n",
    "# Load the pre-trained model\n",
    "st_model = SentenceTransformer('paraphrase-MiniLM-L6-v2')\n",
    "\n",
    "def calculate_semantic_similarity_to_phrase(variable_name, phrase):\n",
    "    # Encode the variable name and the phrase\n",
    "    variable_embedding = st_model.encode(variable_name)\n",
    "    phrase_embedding = st_model.encode(phrase)\n",
    "\n",
    "    # Calculate cosine similarity\n",
    "    similarity = util.cos_sim(variable_embedding, phrase_embedding).item()\n",
    "    return similarity\n"
   ]
  },
  {
   "cell_type": "code",
   "execution_count": null,
   "metadata": {},
   "outputs": [],
   "source": [
    "# Example usage\n",
    "# variable_name = \"MostExpensive\"\n",
    "# phrase = \"This code ranks items by price and selects the highest in each category.\"\n",
    "\n",
    "variable_name = 'MostExpensive'\n",
    "phrase = 'The query identifies and returns the locations (country, region, city) where there are employees but no customers in the Northwind database.'\n",
    "\n",
    "similarity_score = calculate_semantic_similarity_to_phrase(variable_name, phrase)\n",
    "\n",
    "print(f\"Similarity between '{variable_name}' and phrase: {similarity_score}\")"
   ]
  },
  {
   "cell_type": "code",
   "execution_count": 4,
   "metadata": {},
   "outputs": [],
   "source": [
    "def remove_special_characters(input_string):\n",
    "    # Replace all non-alphanumeric characters (except spaces) with an empty string\n",
    "    cleaned_string = re.sub(r'[^A-Za-z0-9 ]+', '', input_string)\n",
    "    return cleaned_string"
   ]
  },
  {
   "cell_type": "code",
   "execution_count": null,
   "metadata": {},
   "outputs": [],
   "source": [
    "def calculate_phrase_similarities(json_file):\n",
    "    with open(json_file, 'r') as file:\n",
    "        data = json.load(file)\n",
    "\n",
    "    for item in data:\n",
    "        cte_name = item.get(\"cte-name\")\n",
    "        llm_cte_name = item.get(\"Mistral-7B-Instruct-v0.3-cte-name\")\n",
    "        summary = item.get(\"summary\")\n",
    "        \n",
    "        similarity = 0\n",
    "        llm_similarity = 0\n",
    "        if cte_name is not None and cte_name != \"\":\n",
    "            if summary is not None and summary != \"\":\n",
    "                similarity = calculate_semantic_similarity_to_phrase(cte_name, summary) # remove_special_characters(summary)\\\n",
    "                llm_similarity = calculate_semantic_similarity_to_phrase(llm_cte_name.removeprefix('CTE_'), summary)\n",
    "\n",
    "        \n",
    "        # Append the similarities to the object\n",
    "        item[\"phrase_similarity\"] = similarity\n",
    "        item[\"Mistral-7B-Instruct-v0.3-phrase_similarity\"] = llm_similarity\n",
    "\n",
    "    with open(json_file, 'w') as outfile:\n",
    "        json.dump(data, outfile, indent=4)"
   ]
  },
  {
   "cell_type": "markdown",
   "metadata": {},
   "source": [
    "#### Comparing LLM Similarities to SPIDER 2 LITE and Curated Github Data"
   ]
  },
  {
   "cell_type": "code",
   "execution_count": 9,
   "metadata": {},
   "outputs": [],
   "source": [
    "calculate_phrase_similarities('data_files\\curated-ctes.json')\n",
    "calculate_phrase_similarities('data_files\\spider2-lite-ctes.json')"
   ]
  }
 ],
 "metadata": {
  "kernelspec": {
   "display_name": "Python 3",
   "language": "python",
   "name": "python3"
  },
  "language_info": {
   "codemirror_mode": {
    "name": "ipython",
    "version": 3
   },
   "file_extension": ".py",
   "mimetype": "text/x-python",
   "name": "python",
   "nbconvert_exporter": "python",
   "pygments_lexer": "ipython3",
   "version": "3.12.5"
  }
 },
 "nbformat": 4,
 "nbformat_minor": 2
}
